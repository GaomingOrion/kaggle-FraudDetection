{
 "cells": [
  {
   "cell_type": "code",
   "execution_count": 2,
   "metadata": {},
   "outputs": [],
   "source": [
    "import pandas as pd\n",
    "import numpy as np\n",
    "import matplotlib.pyplot as plt\n",
    "import seaborn as sns\n",
    "import sys\n",
    "sys.path.append(\"..\")\n",
    "from utils import *\n",
    "import re, gc"
   ]
  },
  {
   "cell_type": "code",
   "execution_count": 3,
   "metadata": {},
   "outputs": [],
   "source": [
    "train_trans = pd.read_csv('../input/train_transaction.csv')\n",
    "test_trans = pd.read_csv('../input/test_transaction.csv')\n",
    "df = pd.concat([train_trans, test_trans], sort=False)"
   ]
  },
  {
   "cell_type": "code",
   "execution_count": 11,
   "metadata": {},
   "outputs": [
    {
     "data": {
      "text/plain": [
       "48"
      ]
     },
     "execution_count": 11,
     "metadata": {},
     "output_type": "execute_result"
    }
   ],
   "source": [
    "del train_trans, test_trans\n",
    "gc.collect()"
   ]
  },
  {
   "cell_type": "code",
   "execution_count": 4,
   "metadata": {},
   "outputs": [
    {
     "data": {
      "text/html": [
       "<div>\n",
       "<style scoped>\n",
       "    .dataframe tbody tr th:only-of-type {\n",
       "        vertical-align: middle;\n",
       "    }\n",
       "\n",
       "    .dataframe tbody tr th {\n",
       "        vertical-align: top;\n",
       "    }\n",
       "\n",
       "    .dataframe thead th {\n",
       "        text-align: right;\n",
       "    }\n",
       "</style>\n",
       "<table border=\"1\" class=\"dataframe\">\n",
       "  <thead>\n",
       "    <tr style=\"text-align: right;\">\n",
       "      <th></th>\n",
       "      <th>TransactionID</th>\n",
       "      <th>isFraud</th>\n",
       "      <th>TransactionDT</th>\n",
       "      <th>TransactionAmt</th>\n",
       "      <th>ProductCD</th>\n",
       "      <th>card1</th>\n",
       "      <th>card2</th>\n",
       "      <th>card3</th>\n",
       "      <th>card4</th>\n",
       "      <th>card5</th>\n",
       "      <th>...</th>\n",
       "      <th>V330</th>\n",
       "      <th>V331</th>\n",
       "      <th>V332</th>\n",
       "      <th>V333</th>\n",
       "      <th>V334</th>\n",
       "      <th>V335</th>\n",
       "      <th>V336</th>\n",
       "      <th>V337</th>\n",
       "      <th>V338</th>\n",
       "      <th>V339</th>\n",
       "    </tr>\n",
       "  </thead>\n",
       "  <tbody>\n",
       "    <tr>\n",
       "      <th>0</th>\n",
       "      <td>2987000</td>\n",
       "      <td>0.0</td>\n",
       "      <td>86400</td>\n",
       "      <td>68.5</td>\n",
       "      <td>W</td>\n",
       "      <td>13926</td>\n",
       "      <td>NaN</td>\n",
       "      <td>150.0</td>\n",
       "      <td>discover</td>\n",
       "      <td>142.0</td>\n",
       "      <td>...</td>\n",
       "      <td>NaN</td>\n",
       "      <td>NaN</td>\n",
       "      <td>NaN</td>\n",
       "      <td>NaN</td>\n",
       "      <td>NaN</td>\n",
       "      <td>NaN</td>\n",
       "      <td>NaN</td>\n",
       "      <td>NaN</td>\n",
       "      <td>NaN</td>\n",
       "      <td>NaN</td>\n",
       "    </tr>\n",
       "    <tr>\n",
       "      <th>1</th>\n",
       "      <td>2987001</td>\n",
       "      <td>0.0</td>\n",
       "      <td>86401</td>\n",
       "      <td>29.0</td>\n",
       "      <td>W</td>\n",
       "      <td>2755</td>\n",
       "      <td>404.0</td>\n",
       "      <td>150.0</td>\n",
       "      <td>mastercard</td>\n",
       "      <td>102.0</td>\n",
       "      <td>...</td>\n",
       "      <td>NaN</td>\n",
       "      <td>NaN</td>\n",
       "      <td>NaN</td>\n",
       "      <td>NaN</td>\n",
       "      <td>NaN</td>\n",
       "      <td>NaN</td>\n",
       "      <td>NaN</td>\n",
       "      <td>NaN</td>\n",
       "      <td>NaN</td>\n",
       "      <td>NaN</td>\n",
       "    </tr>\n",
       "    <tr>\n",
       "      <th>2</th>\n",
       "      <td>2987002</td>\n",
       "      <td>0.0</td>\n",
       "      <td>86469</td>\n",
       "      <td>59.0</td>\n",
       "      <td>W</td>\n",
       "      <td>4663</td>\n",
       "      <td>490.0</td>\n",
       "      <td>150.0</td>\n",
       "      <td>visa</td>\n",
       "      <td>166.0</td>\n",
       "      <td>...</td>\n",
       "      <td>NaN</td>\n",
       "      <td>NaN</td>\n",
       "      <td>NaN</td>\n",
       "      <td>NaN</td>\n",
       "      <td>NaN</td>\n",
       "      <td>NaN</td>\n",
       "      <td>NaN</td>\n",
       "      <td>NaN</td>\n",
       "      <td>NaN</td>\n",
       "      <td>NaN</td>\n",
       "    </tr>\n",
       "    <tr>\n",
       "      <th>3</th>\n",
       "      <td>2987003</td>\n",
       "      <td>0.0</td>\n",
       "      <td>86499</td>\n",
       "      <td>50.0</td>\n",
       "      <td>W</td>\n",
       "      <td>18132</td>\n",
       "      <td>567.0</td>\n",
       "      <td>150.0</td>\n",
       "      <td>mastercard</td>\n",
       "      <td>117.0</td>\n",
       "      <td>...</td>\n",
       "      <td>NaN</td>\n",
       "      <td>NaN</td>\n",
       "      <td>NaN</td>\n",
       "      <td>NaN</td>\n",
       "      <td>NaN</td>\n",
       "      <td>NaN</td>\n",
       "      <td>NaN</td>\n",
       "      <td>NaN</td>\n",
       "      <td>NaN</td>\n",
       "      <td>NaN</td>\n",
       "    </tr>\n",
       "    <tr>\n",
       "      <th>4</th>\n",
       "      <td>2987004</td>\n",
       "      <td>0.0</td>\n",
       "      <td>86506</td>\n",
       "      <td>50.0</td>\n",
       "      <td>H</td>\n",
       "      <td>4497</td>\n",
       "      <td>514.0</td>\n",
       "      <td>150.0</td>\n",
       "      <td>mastercard</td>\n",
       "      <td>102.0</td>\n",
       "      <td>...</td>\n",
       "      <td>0.0</td>\n",
       "      <td>0.0</td>\n",
       "      <td>0.0</td>\n",
       "      <td>0.0</td>\n",
       "      <td>0.0</td>\n",
       "      <td>0.0</td>\n",
       "      <td>0.0</td>\n",
       "      <td>0.0</td>\n",
       "      <td>0.0</td>\n",
       "      <td>0.0</td>\n",
       "    </tr>\n",
       "  </tbody>\n",
       "</table>\n",
       "<p>5 rows × 394 columns</p>\n",
       "</div>"
      ],
      "text/plain": [
       "   TransactionID  isFraud  TransactionDT  TransactionAmt ProductCD  card1  \\\n",
       "0        2987000      0.0          86400            68.5         W  13926   \n",
       "1        2987001      0.0          86401            29.0         W   2755   \n",
       "2        2987002      0.0          86469            59.0         W   4663   \n",
       "3        2987003      0.0          86499            50.0         W  18132   \n",
       "4        2987004      0.0          86506            50.0         H   4497   \n",
       "\n",
       "   card2  card3       card4  card5  ... V330  V331  V332  V333  V334 V335  \\\n",
       "0    NaN  150.0    discover  142.0  ...  NaN   NaN   NaN   NaN   NaN  NaN   \n",
       "1  404.0  150.0  mastercard  102.0  ...  NaN   NaN   NaN   NaN   NaN  NaN   \n",
       "2  490.0  150.0        visa  166.0  ...  NaN   NaN   NaN   NaN   NaN  NaN   \n",
       "3  567.0  150.0  mastercard  117.0  ...  NaN   NaN   NaN   NaN   NaN  NaN   \n",
       "4  514.0  150.0  mastercard  102.0  ...  0.0   0.0   0.0   0.0   0.0  0.0   \n",
       "\n",
       "  V336  V337  V338  V339  \n",
       "0  NaN   NaN   NaN   NaN  \n",
       "1  NaN   NaN   NaN   NaN  \n",
       "2  NaN   NaN   NaN   NaN  \n",
       "3  NaN   NaN   NaN   NaN  \n",
       "4  0.0   0.0   0.0   0.0  \n",
       "\n",
       "[5 rows x 394 columns]"
      ]
     },
     "execution_count": 4,
     "metadata": {},
     "output_type": "execute_result"
    }
   ],
   "source": [
    "df.head()"
   ]
  },
  {
   "cell_type": "code",
   "execution_count": 6,
   "metadata": {},
   "outputs": [],
   "source": [
    "Vcols = ['V%i'%i for i in range(1, 340)]\n",
    "cnt_num = df[Vcols].count()\n",
    "cnt_num = cnt_num.to_frame('cnt')\n",
    "Vgroup = {}\n",
    "for k,v in cnt_num.groupby('cnt'):\n",
    "    Vgroup[k] = list(v.index)\n",
    "Vgroup = {v[0]: v for k,v in Vgroup.items()}"
   ]
  },
  {
   "cell_type": "code",
   "execution_count": 10,
   "metadata": {},
   "outputs": [],
   "source": [
    "# standard \n",
    "from sklearn.preprocessing import StandardScaler\n",
    "std = StandardScaler()\n",
    "df[Vcols] = std.fit_transform(df[Vcols])"
   ]
  },
  {
   "cell_type": "code",
   "execution_count": 13,
   "metadata": {},
   "outputs": [
    {
     "data": {
      "text/plain": [
       "0"
      ]
     },
     "execution_count": 13,
     "metadata": {},
     "output_type": "execute_result"
    }
   ],
   "source": [
    "svd_dict = {}\n",
    "for k,v in Vgroup.items():\n",
    "    svd_dict[k] = np.linalg.svd(df.loc[df[k].notnull(), v].values, full_matrices=0)\n",
    "gc.collect()"
   ]
  },
  {
   "cell_type": "code",
   "execution_count": 14,
   "metadata": {},
   "outputs": [
    {
     "name": "stdout",
     "output_type": "stream",
     "text": [
      "group: V138 to V163, principal components num 11/18\n",
      "group: V143 to V166, principal components num 7/11\n",
      "group: V322 to V339, principal components num 10/18\n",
      "group: V217 to V278, principal components num 21/46\n",
      "group: V169 to V210, principal components num 12/19\n",
      "group: V167 to V216, principal components num 15/31\n",
      "group: V220 to V272, principal components num 10/16\n",
      "group: V1 to V11, principal components num 8/11\n",
      "group: V35 to V52, principal components num 12/18\n",
      "group: V75 to V94, principal components num 13/20\n",
      "group: V53 to V74, principal components num 14/22\n",
      "group: V12 to V34, principal components num 14/23\n",
      "group: V281 to V315, principal components num 8/11\n",
      "group: V95 to V137, principal components num 25/43\n",
      "group: V279 to V321, principal components num 17/32\n"
     ]
    }
   ],
   "source": [
    "tol = 0.9\n",
    "for k, (U, s, VT) in svd_dict.items():\n",
    "    select = np.where(np.cumsum(s)/np.sum(s) > tol)[0][0]+1\n",
    "    print('group: %s to %s, principal components num %i/%i'%(k, Vgroup[k][-1], select, len(Vgroup[k])))\n",
    "    new_cols = ['%s_pca_%i'%(k, i) for i in range(select)]\n",
    "    for col in new_cols:\n",
    "        df[col] = np.nan\n",
    "    df.loc[df[k].notnull() ,new_cols] = np.dot(np.dot(U[:, :select], np.diag(s[:select])), VT[:select, :select])"
   ]
  },
  {
   "cell_type": "code",
   "execution_count": 19,
   "metadata": {},
   "outputs": [],
   "source": [
    "df.drop(Vcols, axis=1, inplace=True)"
   ]
  },
  {
   "cell_type": "code",
   "execution_count": 21,
   "metadata": {},
   "outputs": [],
   "source": [
    "df[df['isFraud'].notnull()].to_csv('../input/train_transaction_pca.csv',index=False)\n",
    "df[df['isFraud'].isnull()].to_csv('../input/test_transaction_pca.csv',index=False)"
   ]
  },
  {
   "cell_type": "code",
   "execution_count": 30,
   "metadata": {},
   "outputs": [],
   "source": [
    "df_train = df[df['isFraud'].notnull()].copy().sort_values('TransactionDT')"
   ]
  },
  {
   "cell_type": "code",
   "execution_count": 33,
   "metadata": {
    "scrolled": true
   },
   "outputs": [
    {
     "name": "stdout",
     "output_type": "stream",
     "text": [
      "197\n",
      "Fold 1 started at Wed Aug 28 23:14:37 2019\n",
      "Training until validation scores don't improve for 200 rounds.\n",
      "[100]\ttraining's binary_logloss: 0.0962132\ttraining's auc: 0.850723\tvalid_1's binary_logloss: 0.121507\tvalid_1's auc: 0.817116\n",
      "[200]\ttraining's binary_logloss: 0.088261\ttraining's auc: 0.862873\tvalid_1's binary_logloss: 0.114262\tvalid_1's auc: 0.82437\n",
      "[300]\ttraining's binary_logloss: 0.0837178\ttraining's auc: 0.870776\tvalid_1's binary_logloss: 0.111111\tvalid_1's auc: 0.827368\n",
      "[400]\ttraining's binary_logloss: 0.0805162\ttraining's auc: 0.877464\tvalid_1's binary_logloss: 0.109255\tvalid_1's auc: 0.829191\n",
      "[500]\ttraining's binary_logloss: 0.0780082\ttraining's auc: 0.882895\tvalid_1's binary_logloss: 0.108027\tvalid_1's auc: 0.830567\n",
      "[600]\ttraining's binary_logloss: 0.0759032\ttraining's auc: 0.888416\tvalid_1's binary_logloss: 0.107104\tvalid_1's auc: 0.831917\n",
      "[700]\ttraining's binary_logloss: 0.0741053\ttraining's auc: 0.893318\tvalid_1's binary_logloss: 0.106508\tvalid_1's auc: 0.832614\n",
      "[800]\ttraining's binary_logloss: 0.0725344\ttraining's auc: 0.897303\tvalid_1's binary_logloss: 0.106096\tvalid_1's auc: 0.832982\n",
      "[900]\ttraining's binary_logloss: 0.0710975\ttraining's auc: 0.901178\tvalid_1's binary_logloss: 0.105793\tvalid_1's auc: 0.833442\n",
      "[1000]\ttraining's binary_logloss: 0.0698399\ttraining's auc: 0.905232\tvalid_1's binary_logloss: 0.10554\tvalid_1's auc: 0.833343\n",
      "[1100]\ttraining's binary_logloss: 0.068645\ttraining's auc: 0.908217\tvalid_1's binary_logloss: 0.105296\tvalid_1's auc: 0.833702\n",
      "[1200]\ttraining's binary_logloss: 0.0675603\ttraining's auc: 0.910976\tvalid_1's binary_logloss: 0.105193\tvalid_1's auc: 0.833665\n",
      "[1300]\ttraining's binary_logloss: 0.0665729\ttraining's auc: 0.91328\tvalid_1's binary_logloss: 0.105081\tvalid_1's auc: 0.833236\n",
      "Early stopping, best iteration is:\n",
      "[1155]\ttraining's binary_logloss: 0.0680471\ttraining's auc: 0.909745\tvalid_1's binary_logloss: 0.105221\tvalid_1's auc: 0.834368\n",
      "Fold 2 started at Wed Aug 28 23:15:33 2019\n",
      "Training until validation scores don't improve for 200 rounds.\n",
      "[100]\ttraining's binary_logloss: 0.103213\ttraining's auc: 0.850172\tvalid_1's binary_logloss: 0.135562\tvalid_1's auc: 0.841661\n",
      "[200]\ttraining's binary_logloss: 0.0954868\ttraining's auc: 0.859059\tvalid_1's binary_logloss: 0.127827\tvalid_1's auc: 0.845938\n",
      "[300]\ttraining's binary_logloss: 0.0913188\ttraining's auc: 0.865482\tvalid_1's binary_logloss: 0.124682\tvalid_1's auc: 0.848813\n",
      "[400]\ttraining's binary_logloss: 0.0883888\ttraining's auc: 0.870668\tvalid_1's binary_logloss: 0.123047\tvalid_1's auc: 0.850208\n",
      "[500]\ttraining's binary_logloss: 0.0862601\ttraining's auc: 0.875695\tvalid_1's binary_logloss: 0.122109\tvalid_1's auc: 0.85118\n",
      "[600]\ttraining's binary_logloss: 0.0844992\ttraining's auc: 0.878947\tvalid_1's binary_logloss: 0.121525\tvalid_1's auc: 0.851274\n",
      "[700]\ttraining's binary_logloss: 0.0829612\ttraining's auc: 0.883103\tvalid_1's binary_logloss: 0.12111\tvalid_1's auc: 0.850999\n",
      "Early stopping, best iteration is:\n",
      "[589]\ttraining's binary_logloss: 0.0847035\ttraining's auc: 0.878274\tvalid_1's binary_logloss: 0.121587\tvalid_1's auc: 0.851451\n",
      "Fold 3 started at Wed Aug 28 23:16:28 2019\n",
      "Training until validation scores don't improve for 200 rounds.\n",
      "[100]\ttraining's binary_logloss: 0.11046\ttraining's auc: 0.85604\tvalid_1's binary_logloss: 0.126316\tvalid_1's auc: 0.83103\n",
      "[200]\ttraining's binary_logloss: 0.102028\ttraining's auc: 0.864924\tvalid_1's binary_logloss: 0.120139\tvalid_1's auc: 0.835476\n",
      "[300]\ttraining's binary_logloss: 0.0980193\ttraining's auc: 0.870841\tvalid_1's binary_logloss: 0.117873\tvalid_1's auc: 0.838036\n",
      "[400]\ttraining's binary_logloss: 0.0955739\ttraining's auc: 0.87457\tvalid_1's binary_logloss: 0.116779\tvalid_1's auc: 0.839591\n",
      "[500]\ttraining's binary_logloss: 0.0935998\ttraining's auc: 0.878092\tvalid_1's binary_logloss: 0.116117\tvalid_1's auc: 0.840613\n",
      "[600]\ttraining's binary_logloss: 0.092049\ttraining's auc: 0.88077\tvalid_1's binary_logloss: 0.115617\tvalid_1's auc: 0.841539\n",
      "[700]\ttraining's binary_logloss: 0.0906608\ttraining's auc: 0.883566\tvalid_1's binary_logloss: 0.115223\tvalid_1's auc: 0.842185\n",
      "[800]\ttraining's binary_logloss: 0.0894517\ttraining's auc: 0.886024\tvalid_1's binary_logloss: 0.114914\tvalid_1's auc: 0.842915\n",
      "[900]\ttraining's binary_logloss: 0.0883427\ttraining's auc: 0.888137\tvalid_1's binary_logloss: 0.1147\tvalid_1's auc: 0.843384\n",
      "[1000]\ttraining's binary_logloss: 0.0872868\ttraining's auc: 0.89079\tvalid_1's binary_logloss: 0.114481\tvalid_1's auc: 0.843822\n",
      "[1100]\ttraining's binary_logloss: 0.0863213\ttraining's auc: 0.892948\tvalid_1's binary_logloss: 0.114273\tvalid_1's auc: 0.844335\n",
      "[1200]\ttraining's binary_logloss: 0.0853861\ttraining's auc: 0.894809\tvalid_1's binary_logloss: 0.11411\tvalid_1's auc: 0.84484\n",
      "[1300]\ttraining's binary_logloss: 0.084561\ttraining's auc: 0.896607\tvalid_1's binary_logloss: 0.114003\tvalid_1's auc: 0.845053\n",
      "[1400]\ttraining's binary_logloss: 0.0837526\ttraining's auc: 0.898448\tvalid_1's binary_logloss: 0.113903\tvalid_1's auc: 0.845191\n",
      "[1500]\ttraining's binary_logloss: 0.0830014\ttraining's auc: 0.900053\tvalid_1's binary_logloss: 0.113867\tvalid_1's auc: 0.845241\n",
      "[1600]\ttraining's binary_logloss: 0.0822608\ttraining's auc: 0.901652\tvalid_1's binary_logloss: 0.113771\tvalid_1's auc: 0.845389\n",
      "[1700]\ttraining's binary_logloss: 0.0815106\ttraining's auc: 0.903311\tvalid_1's binary_logloss: 0.113732\tvalid_1's auc: 0.845452\n",
      "[1800]\ttraining's binary_logloss: 0.0808012\ttraining's auc: 0.904783\tvalid_1's binary_logloss: 0.113653\tvalid_1's auc: 0.845719\n",
      "[1900]\ttraining's binary_logloss: 0.0800838\ttraining's auc: 0.906383\tvalid_1's binary_logloss: 0.113674\tvalid_1's auc: 0.845371\n",
      "Early stopping, best iteration is:\n",
      "[1793]\ttraining's binary_logloss: 0.0808489\ttraining's auc: 0.904526\tvalid_1's binary_logloss: 0.113656\tvalid_1's auc: 0.846007\n",
      "Fold 4 started at Wed Aug 28 23:19:31 2019\n",
      "Training until validation scores don't improve for 200 rounds.\n",
      "[100]\ttraining's binary_logloss: 0.112664\ttraining's auc: 0.855998\tvalid_1's binary_logloss: 0.122156\tvalid_1's auc: 0.845479\n",
      "[200]\ttraining's binary_logloss: 0.104737\ttraining's auc: 0.863749\tvalid_1's binary_logloss: 0.115555\tvalid_1's auc: 0.849232\n",
      "[300]\ttraining's binary_logloss: 0.101084\ttraining's auc: 0.868428\tvalid_1's binary_logloss: 0.113336\tvalid_1's auc: 0.851607\n",
      "[400]\ttraining's binary_logloss: 0.0989107\ttraining's auc: 0.871658\tvalid_1's binary_logloss: 0.112285\tvalid_1's auc: 0.852652\n",
      "[500]\ttraining's binary_logloss: 0.0971595\ttraining's auc: 0.874726\tvalid_1's binary_logloss: 0.111606\tvalid_1's auc: 0.853644\n",
      "[600]\ttraining's binary_logloss: 0.0957732\ttraining's auc: 0.877195\tvalid_1's binary_logloss: 0.111186\tvalid_1's auc: 0.854349\n",
      "[700]\ttraining's binary_logloss: 0.0945207\ttraining's auc: 0.879926\tvalid_1's binary_logloss: 0.110825\tvalid_1's auc: 0.854697\n",
      "[800]\ttraining's binary_logloss: 0.0934179\ttraining's auc: 0.881903\tvalid_1's binary_logloss: 0.110579\tvalid_1's auc: 0.855084\n",
      "[900]\ttraining's binary_logloss: 0.092397\ttraining's auc: 0.884144\tvalid_1's binary_logloss: 0.110394\tvalid_1's auc: 0.855074\n",
      "[1000]\ttraining's binary_logloss: 0.091438\ttraining's auc: 0.886312\tvalid_1's binary_logloss: 0.110191\tvalid_1's auc: 0.855426\n",
      "[1100]\ttraining's binary_logloss: 0.0905816\ttraining's auc: 0.888022\tvalid_1's binary_logloss: 0.110075\tvalid_1's auc: 0.855542\n",
      "[1200]\ttraining's binary_logloss: 0.0897444\ttraining's auc: 0.889726\tvalid_1's binary_logloss: 0.109953\tvalid_1's auc: 0.85565\n",
      "[1300]\ttraining's binary_logloss: 0.0889962\ttraining's auc: 0.891284\tvalid_1's binary_logloss: 0.109867\tvalid_1's auc: 0.855555\n",
      "[1400]\ttraining's binary_logloss: 0.088232\ttraining's auc: 0.893052\tvalid_1's binary_logloss: 0.109849\tvalid_1's auc: 0.855198\n",
      "Early stopping, best iteration is:\n",
      "[1278]\ttraining's binary_logloss: 0.0891555\ttraining's auc: 0.890756\tvalid_1's binary_logloss: 0.109877\tvalid_1's auc: 0.855796\n",
      "Fold 5 started at Wed Aug 28 23:22:26 2019\n",
      "Training until validation scores don't improve for 200 rounds.\n",
      "[100]\ttraining's binary_logloss: 0.113399\ttraining's auc: 0.858044\tvalid_1's binary_logloss: 0.114908\tvalid_1's auc: 0.843822\n",
      "[200]\ttraining's binary_logloss: 0.105258\ttraining's auc: 0.865739\tvalid_1's binary_logloss: 0.10899\tvalid_1's auc: 0.849205\n",
      "[300]\ttraining's binary_logloss: 0.101706\ttraining's auc: 0.870597\tvalid_1's binary_logloss: 0.106908\tvalid_1's auc: 0.852232\n"
     ]
    },
    {
     "name": "stdout",
     "output_type": "stream",
     "text": [
      "[400]\ttraining's binary_logloss: 0.0996875\ttraining's auc: 0.873581\tvalid_1's binary_logloss: 0.105988\tvalid_1's auc: 0.853652\n",
      "[500]\ttraining's binary_logloss: 0.0980767\ttraining's auc: 0.876541\tvalid_1's binary_logloss: 0.105265\tvalid_1's auc: 0.855477\n",
      "[600]\ttraining's binary_logloss: 0.0967451\ttraining's auc: 0.879061\tvalid_1's binary_logloss: 0.104693\tvalid_1's auc: 0.857006\n",
      "[700]\ttraining's binary_logloss: 0.095569\ttraining's auc: 0.88119\tvalid_1's binary_logloss: 0.104268\tvalid_1's auc: 0.858602\n",
      "[800]\ttraining's binary_logloss: 0.094561\ttraining's auc: 0.883488\tvalid_1's binary_logloss: 0.103929\tvalid_1's auc: 0.859478\n",
      "[900]\ttraining's binary_logloss: 0.0935487\ttraining's auc: 0.885393\tvalid_1's binary_logloss: 0.103608\tvalid_1's auc: 0.860422\n",
      "[1000]\ttraining's binary_logloss: 0.0926842\ttraining's auc: 0.887021\tvalid_1's binary_logloss: 0.103347\tvalid_1's auc: 0.860995\n",
      "[1100]\ttraining's binary_logloss: 0.0918244\ttraining's auc: 0.889034\tvalid_1's binary_logloss: 0.103087\tvalid_1's auc: 0.86185\n",
      "[1200]\ttraining's binary_logloss: 0.0911118\ttraining's auc: 0.890377\tvalid_1's binary_logloss: 0.102921\tvalid_1's auc: 0.862471\n",
      "[1300]\ttraining's binary_logloss: 0.0903364\ttraining's auc: 0.892007\tvalid_1's binary_logloss: 0.102738\tvalid_1's auc: 0.86285\n",
      "[1400]\ttraining's binary_logloss: 0.0895868\ttraining's auc: 0.893433\tvalid_1's binary_logloss: 0.102563\tvalid_1's auc: 0.863701\n",
      "[1500]\ttraining's binary_logloss: 0.0888848\ttraining's auc: 0.89502\tvalid_1's binary_logloss: 0.102375\tvalid_1's auc: 0.864302\n",
      "[1600]\ttraining's binary_logloss: 0.0882356\ttraining's auc: 0.896448\tvalid_1's binary_logloss: 0.10229\tvalid_1's auc: 0.864531\n",
      "[1700]\ttraining's binary_logloss: 0.0875561\ttraining's auc: 0.897886\tvalid_1's binary_logloss: 0.102158\tvalid_1's auc: 0.864713\n",
      "[1800]\ttraining's binary_logloss: 0.0869529\ttraining's auc: 0.899287\tvalid_1's binary_logloss: 0.102079\tvalid_1's auc: 0.864916\n",
      "[1900]\ttraining's binary_logloss: 0.0863668\ttraining's auc: 0.900545\tvalid_1's binary_logloss: 0.102048\tvalid_1's auc: 0.864848\n",
      "[2000]\ttraining's binary_logloss: 0.0857865\ttraining's auc: 0.901666\tvalid_1's binary_logloss: 0.101955\tvalid_1's auc: 0.864986\n",
      "[2100]\ttraining's binary_logloss: 0.0852344\ttraining's auc: 0.902785\tvalid_1's binary_logloss: 0.101872\tvalid_1's auc: 0.865329\n",
      "[2200]\ttraining's binary_logloss: 0.0846441\ttraining's auc: 0.903923\tvalid_1's binary_logloss: 0.101781\tvalid_1's auc: 0.865194\n",
      "[2300]\ttraining's binary_logloss: 0.0840832\ttraining's auc: 0.905177\tvalid_1's binary_logloss: 0.101744\tvalid_1's auc: 0.865296\n",
      "[2400]\ttraining's binary_logloss: 0.0835605\ttraining's auc: 0.906383\tvalid_1's binary_logloss: 0.101693\tvalid_1's auc: 0.865278\n",
      "[2500]\ttraining's binary_logloss: 0.0830735\ttraining's auc: 0.907225\tvalid_1's binary_logloss: 0.101667\tvalid_1's auc: 0.865444\n",
      "Early stopping, best iteration is:\n",
      "[2380]\ttraining's binary_logloss: 0.0836709\ttraining's auc: 0.90601\tvalid_1's binary_logloss: 0.101699\tvalid_1's auc: 0.865502\n",
      "CV mean score: 0.8504, std: 0.0104.\n"
     ]
    },
    {
     "data": {
      "image/png": "[encoded data removed]",
      "text/plain": [
       "<Figure size 1152x864 with 1 Axes>"
      ]
     },
     "metadata": {
      "needs_background": "light"
     },
     "output_type": "display_data"
    }
   ],
   "source": [
    "from sklearn.model_selection import KFold, TimeSeriesSplit\n",
    "features = [x for x in df.columns if 'pca' in x]\n",
    "print(len(features))\n",
    "params = {'num_leaves': 400,\n",
    "          'min_child_samples': 1000,\n",
    "          'objective': 'binary',\n",
    "          'max_depth': 12,\n",
    "          'learning_rate': 0.01,\n",
    "          \"boosting_type\": \"gbdt\",\n",
    "          \"subsample_freq\": 1,\n",
    "          \"subsample\": 0.5,\n",
    "          'sub_feature': 0.8,\n",
    "          #\"bagging_seed\": 11,\n",
    "          # \"metric\": 'auc',\n",
    "          \"verbosity\": -1,\n",
    "          'reg_alpha': 0.1,\n",
    "          'reg_lambda': 1.0,\n",
    "          #'device_type': 'gpu'\n",
    "         }\n",
    "folds = TimeSeriesSplit(5)\n",
    "lgb_res = train_model_classification(df_train, df_train.head(), df_train['isFraud'], params, folds, model_type='lgb', eval_metric='auc', \n",
    "                           columns=features, plot_feature_importance=True,\n",
    "                           model=None, verbose=100, early_stopping_rounds=200, n_estimators=50000, \n",
    "                           splits=folds, averaging='usual', n_jobs=4)"
   ]
  }
 ],
 "metadata": {
  "kernelspec": {
   "display_name": "Python [conda env:tensorflow-gpu] *",
   "language": "python",
   "name": "conda-env-tensorflow-gpu-py"
  },
  "language_info": {
   "codemirror_mode": {
    "name": "ipython",
    "version": 3
   },
   "file_extension": ".py",
   "mimetype": "text/x-python",
   "name": "python",
   "nbconvert_exporter": "python",
   "pygments_lexer": "ipython3",
   "version": "3.6.7"
  }
 },
 "nbformat": 4,
 "nbformat_minor": 2
}
